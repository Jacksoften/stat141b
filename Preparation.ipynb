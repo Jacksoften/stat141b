{
 "cells": [
  {
   "cell_type": "markdown",
   "metadata": {},
   "source": [
    "## GitHub\n",
    "\n",
    "Git Help\n",
    "- [Git tutorials by Atlassian](https://www.atlassian.com/git/tutorials)\n",
    "- [Git command cheat sheet](https://www.git-tower.com/blog/git-cheat-sheet/)\n",
    "\n"
   ]
  },
  {
   "cell_type": "markdown",
   "metadata": {},
   "source": [
    "* Some useful git commands\n",
    "```shell\n",
    "git status # file status\n",
    "git diff # changes to tracked files\n",
    "git add . # add all current changes to the next commit\n",
    "git commit -a # commit all local changes in tracked files\n",
    "git commit --amend # change last commit\n",
    "git log # show all commits\n",
    "git log -p <file> show changes over time for a specific file\n",
    "git branch -av # list all existing branches\n",
    "git checkout <branch> # Switch HEAD branch\n",
    "git branch <new-branch> # Create a new tracking branch based on a remote branch\n",
    "git fetch <remote> # Download all changes but not integrate into HEAD\n",
    "git pull\n",
    "git push\n",
    "git reset --head HEAD # discard all local changes\n",
    "git reset --keep <commit> # reset your HEAD pointer to a previous commit and preseve uncommitted local changes\n",
    "```"
   ]
  },
  {
   "cell_type": "markdown",
   "metadata": {},
   "source": [
    "## Jupyter\n",
    "Jupyter is a web application. It allows different types of description to be displayed in one page.  \n",
    "It supports all three main languages for data science: python, R, julia.  \n",
    "Using markdown to display analysis and equations. [Markdown Cheatsheet](https://guides.github.com/pdfs/markdown-cheatsheet-online.pdf)  \n",
    "Using Jupyter Notebook shortcuts will make your life easier. [Notebook Cheatsheet](https://gist.github.com/kidpixo/f4318f8c8143adee5b40)"
   ]
  },
  {
   "cell_type": "markdown",
   "metadata": {},
   "source": [
    "* Some useful markdown techniques\n",
    "\n",
    "Above markdown cells already include inserting hyperlinks and programming code, you can double click the cell and check the code.  \n",
    "\n",
    "## Big  \n",
    "**Bold**  \n",
    "__Bold__  \n",
    ">It is a  \n",
    ">subsection  \n",
    "\n",
    "* Notice\n",
    "GitHub README.md is also a markdwon file and it has more functionalities."
   ]
  }
 ],
 "metadata": {
  "kernelspec": {
   "display_name": "Python 3",
   "language": "python",
   "name": "python3"
  },
  "language_info": {
   "codemirror_mode": {
    "name": "ipython",
    "version": 3
   },
   "file_extension": ".py",
   "mimetype": "text/x-python",
   "name": "python",
   "nbconvert_exporter": "python",
   "pygments_lexer": "ipython3",
   "version": "3.6.3"
  }
 },
 "nbformat": 4,
 "nbformat_minor": 2
}
