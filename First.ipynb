{
 "cells": [
  {
   "cell_type": "code",
   "execution_count": 7,
   "metadata": {},
   "outputs": [
    {
     "name": "stdout",
     "output_type": "stream",
     "text": [
      "--2018-01-10 18:26:53--  https://www.wordgamedictionary.com/sowpods/download/sowpods.txt\n",
      "Resolving www.wordgamedictionary.com (www.wordgamedictionary.com)... 192.169.236.24\n",
      "Connecting to www.wordgamedictionary.com (www.wordgamedictionary.com)|192.169.236.24|:443... connected.\n",
      "HTTP request sent, awaiting response... 200 OK\n",
      "Length: unspecified [text/plain]\n",
      "Saving to: ‘sowpods.txt’\n",
      "\n",
      "sowpods.txt             [  <=>               ] 678.22K  1.97MB/s    in 0.3s    \n",
      "\n",
      "2018-01-10 18:26:54 (1.97 MB/s) - ‘sowpods.txt’ saved [2707333]\n",
      "\n"
     ]
    }
   ],
   "source": [
    "!wget https://www.wordgamedictionary.com/sowpods/download/sowpods.txt"
   ]
  },
  {
   "cell_type": "code",
   "execution_count": 8,
   "metadata": {},
   "outputs": [
    {
     "name": "stdout",
     "output_type": "stream",
     "text": [
      "SOWPODS (Europe Scrabble Word List)\r\n",
      "\r\n",
      "Did you know this is a European word list? You can find the US version here http://www.wordgamedictionary.com/twl06/download/twl06.txt\r\n",
      "\r\n",
      "You can also find an extensive and larger English word list here http://www.wordgamedictionary.com/english-word-list/download/english.txt\r\n",
      "\r\n",
      "aa\r\n",
      "aah\r\n",
      "aahed\r\n",
      "aahing\r\n"
     ]
    }
   ],
   "source": [
    "!head sowpods.txt"
   ]
  },
  {
   "cell_type": "code",
   "execution_count": 9,
   "metadata": {
    "collapsed": true
   },
   "outputs": [],
   "source": [
    "infile = open(\"sowpods.txt\", \"r\")\n",
    "outfile = open(\"uppods.txt\", \"w\")"
   ]
  },
  {
   "cell_type": "code",
   "execution_count": 11,
   "metadata": {},
   "outputs": [
    {
     "data": {
      "text/plain": [
       "'\\n'"
      ]
     },
     "execution_count": 11,
     "metadata": {},
     "output_type": "execute_result"
    }
   ],
   "source": [
    "infile.readline()"
   ]
  },
  {
   "cell_type": "code",
   "execution_count": 12,
   "metadata": {
    "collapsed": true
   },
   "outputs": [],
   "source": [
    "for line in infile:\n",
    "    outfile.write(line.upper())"
   ]
  },
  {
   "cell_type": "code",
   "execution_count": 13,
   "metadata": {
    "collapsed": true
   },
   "outputs": [],
   "source": [
    "infile.close()\n",
    "outfile.close()"
   ]
  },
  {
   "cell_type": "code",
   "execution_count": 16,
   "metadata": {},
   "outputs": [
    {
     "name": "stdout",
     "output_type": "stream",
     "text": [
      "DID YOU KNOW THIS IS A EUROPEAN WORD LIST? YOU CAN FIND THE US VERSION HERE HTTP://WWW.WORDGAMEDICTIONARY.COM/TWL06/DOWNLOAD/TWL06.TXT\r\n",
      "\r\n",
      "YOU CAN ALSO FIND AN EXTENSIVE AND LARGER ENGLISH WORD LIST HERE HTTP://WWW.WORDGAMEDICTIONARY.COM/ENGLISH-WORD-LIST/DOWNLOAD/ENGLISH.TXT\r\n",
      "\r\n",
      "AA\r\n",
      "AAH\r\n",
      "AAHED\r\n",
      "AAHING\r\n",
      "AAHS\r\n",
      "AAL\r\n"
     ]
    }
   ],
   "source": [
    "!head uppods.txt"
   ]
  },
  {
   "cell_type": "code",
   "execution_count": null,
   "metadata": {
    "collapsed": true
   },
   "outputs": [],
   "source": []
  }
 ],
 "metadata": {
  "kernelspec": {
   "display_name": "Python 3",
   "language": "python",
   "name": "python3"
  },
  "language_info": {
   "codemirror_mode": {
    "name": "ipython",
    "version": 3
   },
   "file_extension": ".py",
   "mimetype": "text/x-python",
   "name": "python",
   "nbconvert_exporter": "python",
   "pygments_lexer": "ipython3",
   "version": "3.6.3"
  }
 },
 "nbformat": 4,
 "nbformat_minor": 2
}
